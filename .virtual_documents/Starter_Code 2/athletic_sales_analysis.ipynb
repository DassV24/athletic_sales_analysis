# Import Libraries and Dependencies
import pandas as pd





# Read the CSV files into DataFrames.
df_athletic_sales_20 = pd.read_csv("Resources/athletic_sales_2020.csv")
df_athletic_sales_21 = pd.read_csv("Resources/athletic_sales_2021.csv")


# Display the 2020 sales DataFrame
df_athletic_sales_20


# Display the 2021 sales DataFrame
df_athletic_sales_21





# Check the 2020 sales data types.
df_athletic_sales_20.info()


# Check the 2021 sales data types.
df_athletic_sales_21.info()





# Combine the 2020 and 2021 sales DataFrames on the rows and reset the index.

combined_athletic_sales_df = pd.concat([df_athletic_sales_20, df_athletic_sales_21], join = "inner", axis = "rows" ).reset_index(drop=True)

combined_athletic_sales_df


# Check if any values are null.
combined_athletic_sales_df.isna().sum()


# Check the data type of each column
combined_athletic_sales_df.info()


# Convert the "invoice_date" to a datetime datatype

combined_athletic_sales_df['invoice_date'] = pd.to_datetime(combined_athletic_sales_df['invoice_date'],format='%m/%d/%y', errors='coerce')



# verification print
combined_athletic_sales_df['invoice_date']


# Confirm that the "invoice_date" data type has been changed.
combined_athletic_sales_df['invoice_date'].info()








# Show the number products sold for region, state, and city.
# Rename the sum to "Total_Products_Sold".
grouped_athletic_sales_df = combined_athletic_sales_df.groupby(['region','state','city'])['units_sold'].sum()

grouped_athletic_sales_df.rename({'units_sold': 'Total_Products_Sold'},inplace=True)

# Show the top 5 results.
#sort by total products sold 
top_5_results = grouped_athletic_sales_df.sort_values(ascending=False).head(5)
top_5_results














# Show the total sales for the products sold for each region, state, and city.
# Rename the "total_sales" column to "Total Sales"
grouped_athletic_sales = combined_athletic_sales_df.groupby(['region','state','city'])['total_sales'].agg(Total_Sales='sum')

grouped_athletic_sales = grouped_athletic_sales.rename(columns={'Total_Sales':'Total Sales'})

# Show the top 5 results.
top_5_sales_gb = grouped_athletic_sales.sort_values(by=['Total Sales'],ascending=False)
top_5_sales_gb.head()
 





combined_athletic_sales_df.head()


# Show the total sales for the products sold for each region, state, and city.
pivot_table_athletic_sales = pd.pivot_table(combined_athletic_sales_df, 
                                            index=['region','state','city'],
                                            values=['total_sales'],
                                            aggfunc='sum') 


# Optional: Rename the "total_sales" column to "Total Sales"
pivot_table_athletic_sales.rename(columns={'total_sales' : 'Total Sales'}, inplace=True)

# Show the top 5 results.
top_5_athletic_sales = pivot_table_athletic_sales.sort_values(by=['Total Sales'], ascending=False).head(5)

# top_5_athletic_sales
print(top_5_athletic_sales)
      








# Show the total sales for the products sold for each retailer, region, state, and city.
# Rename the "total_sales" column to "Total Sales"
grouped_athletic_sales_2 = combined_athletic_sales_df.groupby(['retailer','region','state','city'])['total_sales'].agg(Total_Sales=('sum'))
# print(grouped_athletic_sales_2)

# Show the top 5 results.
top_grouped_results_2 = grouped_athletic_sales_2.sort_values(by=['Total_Sales'], ascending=False).head(5)
print(top_grouped_results_2)






# Show the total sales for the products sold for each retailer, region, state, and city.
pivot_table_athletic_sales_2 = pd.pivot_table(combined_athletic_sales_df, 
                                            index=['retailer','region','state','city'],
                                            values=['total_sales'],
                                            aggfunc='sum') 

# Optional: Rename the "total_sales" column to "Total Sales"
pivot_table_athletic_sales_2 = pivot_table_athletic_sales_2.rename(columns={'total_sales': 'Total_Sales'}, inplace=True)

# Show the top 5 results.
top_5_pt_athlectic_sales = pivot_table_athletic_sales_2.sort_values(by=['Total_Sales'])
# , ascending=False)







# Filter the sales data to get the women's athletic footwear sales data.






# Show the total number of women's athletic footwear sold for each retailer, region, state, and city.
# Rename the "units_sold" column to "Womens_Footwear_Units_Sold"


# Show the top 5 results.






# Show the total number of women's athletic footwear sold for each retailer, region, state, and city.


# Rename the "units_sold" column to "Womens_Footwear_Units_Sold"


# Show the top 5 results.






# Create a pivot table with the 'invoice_date' column is the index, and the "total_sales" as the values.


# Optional: Rename the "total_sales" column to "Total Sales"


# Show the table.



# Resample the pivot table into daily bins, and get the total sales for each day.


# Sort the resampled pivot table in descending order on "Total Sales".






# Resample the pivot table into weekly bins, and get the total sales for each week.


# Sort the resampled pivot table in descending order on "Total Sales".




